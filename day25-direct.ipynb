{
 "cells": [
  {
   "cell_type": "code",
   "execution_count": 1,
   "id": "55742b53-e5e3-4bb3-b228-525fd952fdd1",
   "metadata": {},
   "outputs": [],
   "source": [
    "import networkx as nx\n",
    "from itertools import combinations"
   ]
  },
  {
   "cell_type": "code",
   "execution_count": 5,
   "id": "c972033f-0ebc-48b4-8901-0863de170594",
   "metadata": {},
   "outputs": [],
   "source": [
    "G = nx.Graph()\n",
    "for line in open(\"day25/sample2.txt\"):\n",
    "    line = line.strip()\n",
    "    left, rightList = line.split(\": \")\n",
    "    for right in rightList.split(\" \"):\n",
    "        G.add_edge(left, right)"
   ]
  },
  {
   "cell_type": "code",
   "execution_count": 6,
   "id": "6a62ef66-7f0e-4f33-9a39-c35a299df9c6",
   "metadata": {},
   "outputs": [
    {
     "data": {
      "text/plain": [
       "NodeView(('jqt', 'rhn', 'xhk', 'nvd', 'rsh', 'frs', 'pzl', 'lsr', 'hfx', 'cmg', 'qnr', 'lhk', 'bvb', 'ntq', 'rzs'))"
      ]
     },
     "execution_count": 6,
     "metadata": {},
     "output_type": "execute_result"
    }
   ],
   "source": [
    "G.nodes()"
   ]
  },
  {
   "cell_type": "code",
   "execution_count": 17,
   "id": "65bfb9e8-f053-401d-9878-00578fe725a5",
   "metadata": {},
   "outputs": [],
   "source": [
    "# Related to https://networkx.org/documentation/stable/reference/algorithms/generated/networkx.algorithms.connectivity.disjoint_paths.edge_disjoint_paths.html#edge-disjoint-paths\n",
    "def count_paths(G, a, b):\n",
    "    try:\n",
    "        path = nx.shortest_path(G, a, b)\n",
    "    except nx.NetworkXNoPath:\n",
    "        return 0\n",
    "    # remove edges along the path and try again\n",
    "    for edge in zip(path[:-1], path[1:]):\n",
    "        G.remove_edge(*edge)\n",
    "    return 1 + count_paths(G, a, b)"
   ]
  },
  {
   "cell_type": "code",
   "execution_count": 10,
   "id": "c7a2029a-ec62-415b-8f19-b0b56758af56",
   "metadata": {},
   "outputs": [],
   "source": [
    "path = nx.shortest_path(G, 'jqt', 'rsh')"
   ]
  },
  {
   "cell_type": "code",
   "execution_count": 11,
   "id": "2445ca4a-602f-48a3-97ed-9cf093d95d75",
   "metadata": {},
   "outputs": [
    {
     "data": {
      "text/plain": [
       "['nvd', 'pzl']"
      ]
     },
     "execution_count": 11,
     "metadata": {},
     "output_type": "execute_result"
    }
   ],
   "source": [
    "path[1:-1]"
   ]
  },
  {
   "cell_type": "code",
   "execution_count": 21,
   "id": "d2a62626-3ec9-44e2-b855-87dc0fe45631",
   "metadata": {},
   "outputs": [],
   "source": [
    "Gc = G.copy()"
   ]
  },
  {
   "cell_type": "code",
   "execution_count": 19,
   "id": "ed9317d6-2676-47c6-b8c7-d13ef89909fd",
   "metadata": {},
   "outputs": [
    {
     "data": {
      "text/plain": [
       "3"
      ]
     },
     "execution_count": 19,
     "metadata": {},
     "output_type": "execute_result"
    }
   ],
   "source": [
    "count_paths(Gc, 'jqt', 'rsh')"
   ]
  },
  {
   "cell_type": "code",
   "execution_count": 22,
   "id": "d5aeaaaa-1b7b-436d-8ef2-b46c3c989986",
   "metadata": {},
   "outputs": [
    {
     "data": {
      "text/plain": [
       "4"
      ]
     },
     "execution_count": 22,
     "metadata": {},
     "output_type": "execute_result"
    }
   ],
   "source": [
    "count_paths(Gc, 'jqt', 'rhn')"
   ]
  },
  {
   "cell_type": "code",
   "execution_count": 24,
   "id": "2079cb7b-321d-4b8b-ab5c-7735906fcd34",
   "metadata": {},
   "outputs": [
    {
     "name": "stdout",
     "output_type": "stream",
     "text": [
      "jqt and nvd are in different components\n",
      "pzl and hfx are in different components\n",
      "cmg and bvb are in different components\n"
     ]
    }
   ],
   "source": [
    "out_G = nx.Graph()\n",
    "for (a, b) in G.edges():\n",
    "    Gc = G.copy()\n",
    "    count = count_paths(Gc, a, b)\n",
    "    if count >= 4:\n",
    "        out_G.add_edge(a, b)\n",
    "    else:\n",
    "        print(f'{a} and {b} are in different components')"
   ]
  },
  {
   "cell_type": "code",
   "execution_count": 25,
   "id": "d6aa8bb3-bf86-4dad-9f7b-41b3eb7157de",
   "metadata": {},
   "outputs": [
    {
     "data": {
      "text/plain": [
       "<networkx.classes.graph.Graph at 0x11035fe20>"
      ]
     },
     "execution_count": 25,
     "metadata": {},
     "output_type": "execute_result"
    }
   ],
   "source": [
    "out_G"
   ]
  },
  {
   "cell_type": "code",
   "execution_count": 26,
   "id": "4d11c5c7-855a-4fe0-872c-5068b039b79f",
   "metadata": {},
   "outputs": [
    {
     "data": {
      "text/plain": [
       "[('jqt', 'rhn'),\n",
       " ('jqt', 'xhk'),\n",
       " ('jqt', 'ntq'),\n",
       " ('rhn', 'xhk'),\n",
       " ('rhn', 'bvb'),\n",
       " ('rhn', 'hfx'),\n",
       " ('xhk', 'hfx'),\n",
       " ('xhk', 'bvb'),\n",
       " ('xhk', 'ntq'),\n",
       " ('ntq', 'hfx'),\n",
       " ('ntq', 'bvb'),\n",
       " ('bvb', 'hfx'),\n",
       " ('nvd', 'cmg'),\n",
       " ('nvd', 'pzl'),\n",
       " ('nvd', 'qnr'),\n",
       " ('nvd', 'lhk'),\n",
       " ('cmg', 'qnr'),\n",
       " ('cmg', 'lhk'),\n",
       " ('cmg', 'rzs'),\n",
       " ('pzl', 'rsh'),\n",
       " ('pzl', 'lsr'),\n",
       " ('qnr', 'frs'),\n",
       " ('qnr', 'rzs'),\n",
       " ('lhk', 'frs'),\n",
       " ('lhk', 'lsr'),\n",
       " ('rsh', 'frs'),\n",
       " ('rsh', 'lsr'),\n",
       " ('rsh', 'rzs'),\n",
       " ('frs', 'lsr'),\n",
       " ('lsr', 'rzs')]"
      ]
     },
     "execution_count": 26,
     "metadata": {},
     "output_type": "execute_result"
    }
   ],
   "source": [
    "[*out_G.edges()]"
   ]
  },
  {
   "cell_type": "code",
   "execution_count": 29,
   "id": "ed5dc32f-e693-459f-ad03-67d18ff6821d",
   "metadata": {},
   "outputs": [
    {
     "data": {
      "text/plain": [
       "[{'bvb', 'hfx', 'jqt', 'ntq', 'rhn', 'xhk'},\n",
       " {'cmg', 'frs', 'lhk', 'lsr', 'nvd', 'pzl', 'qnr', 'rsh', 'rzs'}]"
      ]
     },
     "execution_count": 29,
     "metadata": {},
     "output_type": "execute_result"
    }
   ],
   "source": [
    "[*nx.components.connected_components(out_G)]"
   ]
  },
  {
   "cell_type": "code",
   "execution_count": 30,
   "id": "00170b55-1d0f-4b28-8a19-535b86cb0d5d",
   "metadata": {},
   "outputs": [
    {
     "data": {
      "text/plain": [
       "15"
      ]
     },
     "execution_count": 30,
     "metadata": {},
     "output_type": "execute_result"
    }
   ],
   "source": [
    "len([*out_G.nodes()])"
   ]
  },
  {
   "cell_type": "code",
   "execution_count": 31,
   "id": "a4734531-bac9-4419-8f6b-8aa0dc538e7d",
   "metadata": {},
   "outputs": [
    {
     "data": {
      "text/plain": [
       "15"
      ]
     },
     "execution_count": 31,
     "metadata": {},
     "output_type": "execute_result"
    }
   ],
   "source": [
    "len([*G.nodes()])"
   ]
  },
  {
   "cell_type": "code",
   "execution_count": 33,
   "id": "37448967-e263-4c0e-aa12-af65effdde32",
   "metadata": {},
   "outputs": [],
   "source": [
    "big_G = nx.Graph()\n",
    "for line in open(\"day25/input.txt\"):\n",
    "    line = line.strip()\n",
    "    left, rightList = line.split(\": \")\n",
    "    for right in rightList.split(\" \"):\n",
    "        big_G.add_edge(left, right)"
   ]
  },
  {
   "cell_type": "code",
   "execution_count": 35,
   "id": "11737ebd-0d0f-48ec-bb44-61196e52fcbe",
   "metadata": {},
   "outputs": [
    {
     "data": {
      "text/plain": [
       "(1453, 3236)"
      ]
     },
     "execution_count": 35,
     "metadata": {},
     "output_type": "execute_result"
    }
   ],
   "source": [
    "len([*big_G.nodes()]), len([*big_G.edges()])"
   ]
  },
  {
   "cell_type": "code",
   "execution_count": 37,
   "id": "9d915803-4aea-4099-8db6-bf869afe33df",
   "metadata": {},
   "outputs": [
    {
     "name": "stdout",
     "output_type": "stream",
     "text": [
      "0 / 3236\n",
      "25 / 3236\n",
      "50 / 3236\n",
      "75 / 3236\n",
      "100 / 3236\n",
      "125 / 3236\n",
      "150 / 3236\n",
      "175 / 3236\n",
      "200 / 3236\n",
      "225 / 3236\n",
      "250 / 3236\n",
      "275 / 3236\n",
      "300 / 3236\n",
      "325 / 3236\n",
      "350 / 3236\n",
      "375 / 3236\n",
      "400 / 3236\n",
      "425 / 3236\n",
      "pzq and rrz are in different components\n",
      "450 / 3236\n",
      "475 / 3236\n",
      "500 / 3236\n",
      "jtr and mtq are in different components\n",
      "525 / 3236\n",
      "550 / 3236\n",
      "575 / 3236\n",
      "600 / 3236\n",
      "625 / 3236\n",
      "650 / 3236\n",
      "675 / 3236\n",
      "700 / 3236\n",
      "725 / 3236\n",
      "750 / 3236\n",
      "775 / 3236\n",
      "800 / 3236\n",
      "825 / 3236\n",
      "850 / 3236\n",
      "875 / 3236\n",
      "900 / 3236\n",
      "925 / 3236\n",
      "950 / 3236\n",
      "975 / 3236\n",
      "1000 / 3236\n",
      "1025 / 3236\n",
      "1050 / 3236\n",
      "1075 / 3236\n",
      "1100 / 3236\n",
      "1125 / 3236\n",
      "1150 / 3236\n",
      "1175 / 3236\n",
      "1200 / 3236\n",
      "1225 / 3236\n",
      "1250 / 3236\n",
      "1275 / 3236\n",
      "1300 / 3236\n",
      "1325 / 3236\n",
      "1350 / 3236\n",
      "1375 / 3236\n",
      "1400 / 3236\n",
      "1425 / 3236\n",
      "1450 / 3236\n",
      "1475 / 3236\n",
      "1500 / 3236\n",
      "1525 / 3236\n",
      "1550 / 3236\n",
      "1575 / 3236\n",
      "1600 / 3236\n",
      "1625 / 3236\n",
      "1650 / 3236\n",
      "1675 / 3236\n",
      "znv and ddj are in different components\n",
      "1700 / 3236\n",
      "1725 / 3236\n",
      "1750 / 3236\n",
      "1775 / 3236\n",
      "1800 / 3236\n",
      "1825 / 3236\n",
      "1850 / 3236\n",
      "1875 / 3236\n",
      "1900 / 3236\n",
      "1925 / 3236\n",
      "1950 / 3236\n",
      "1975 / 3236\n",
      "2000 / 3236\n",
      "2025 / 3236\n",
      "2050 / 3236\n",
      "2075 / 3236\n",
      "2100 / 3236\n",
      "2125 / 3236\n",
      "2150 / 3236\n",
      "2175 / 3236\n",
      "2200 / 3236\n",
      "2225 / 3236\n",
      "2250 / 3236\n",
      "2275 / 3236\n",
      "2300 / 3236\n",
      "2325 / 3236\n",
      "2350 / 3236\n",
      "2375 / 3236\n",
      "2400 / 3236\n",
      "2425 / 3236\n",
      "2450 / 3236\n",
      "2475 / 3236\n",
      "2500 / 3236\n",
      "2525 / 3236\n",
      "2550 / 3236\n",
      "2575 / 3236\n",
      "2600 / 3236\n",
      "2625 / 3236\n",
      "2650 / 3236\n",
      "2675 / 3236\n",
      "2700 / 3236\n",
      "2725 / 3236\n",
      "2750 / 3236\n",
      "2775 / 3236\n",
      "2800 / 3236\n",
      "2825 / 3236\n",
      "2850 / 3236\n",
      "2875 / 3236\n",
      "2900 / 3236\n",
      "2925 / 3236\n",
      "2950 / 3236\n",
      "2975 / 3236\n",
      "3000 / 3236\n",
      "3025 / 3236\n",
      "3050 / 3236\n",
      "3075 / 3236\n",
      "3100 / 3236\n",
      "3125 / 3236\n",
      "3150 / 3236\n",
      "3175 / 3236\n",
      "3200 / 3236\n",
      "3225 / 3236\n"
     ]
    }
   ],
   "source": [
    "out_G = nx.Graph()\n",
    "edges = [*big_G.edges()]\n",
    "for i, (a, b) in enumerate(edges):\n",
    "    if i % 25 == 0:\n",
    "        print(i, '/', len(edges))\n",
    "    Gc = big_G.copy()\n",
    "    count = count_paths(Gc, a, b)\n",
    "    if count >= 4:\n",
    "        out_G.add_edge(a, b)\n",
    "    else:\n",
    "        print(f'{a} and {b} are in different components')"
   ]
  },
  {
   "cell_type": "code",
   "execution_count": 40,
   "id": "7a7a121d-ecaa-4b86-b787-9052e93a7c31",
   "metadata": {},
   "outputs": [],
   "source": [
    "comps = [*nx.components.connected_components(out_G)]"
   ]
  },
  {
   "cell_type": "code",
   "execution_count": 41,
   "id": "6963f4a1-9d21-4a92-9405-763a19e98b1f",
   "metadata": {},
   "outputs": [
    {
     "data": {
      "text/plain": [
       "2"
      ]
     },
     "execution_count": 41,
     "metadata": {},
     "output_type": "execute_result"
    }
   ],
   "source": [
    "len(comps)"
   ]
  },
  {
   "cell_type": "code",
   "execution_count": 43,
   "id": "d6dca493-462c-46d2-9846-f98b97eec0c8",
   "metadata": {},
   "outputs": [
    {
     "data": {
      "text/plain": [
       "(730, 723)"
      ]
     },
     "execution_count": 43,
     "metadata": {},
     "output_type": "execute_result"
    }
   ],
   "source": [
    "len(comps[0]), len(comps[1])"
   ]
  },
  {
   "cell_type": "code",
   "execution_count": 44,
   "id": "da6930e5-6fdf-4e12-8365-03e89ac50c7e",
   "metadata": {},
   "outputs": [
    {
     "data": {
      "text/plain": [
       "527790"
      ]
     },
     "execution_count": 44,
     "metadata": {},
     "output_type": "execute_result"
    }
   ],
   "source": [
    "len(comps[0]) * len(comps[1])"
   ]
  },
  {
   "cell_type": "code",
   "execution_count": null,
   "id": "2f43efdb-5315-4267-bd6f-01e97f470db3",
   "metadata": {},
   "outputs": [],
   "source": []
  }
 ],
 "metadata": {
  "kernelspec": {
   "display_name": "Python 3 (ipykernel)",
   "language": "python",
   "name": "python3"
  },
  "language_info": {
   "codemirror_mode": {
    "name": "ipython",
    "version": 3
   },
   "file_extension": ".py",
   "mimetype": "text/x-python",
   "name": "python",
   "nbconvert_exporter": "python",
   "pygments_lexer": "ipython3",
   "version": "3.10.12"
  }
 },
 "nbformat": 4,
 "nbformat_minor": 5
}

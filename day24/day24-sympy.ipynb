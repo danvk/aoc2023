{
 "cells": [
  {
   "cell_type": "code",
   "execution_count": 1,
   "id": "006003b0-f962-4fad-8f3c-994213f642fd",
   "metadata": {},
   "outputs": [
    {
     "data": {
      "text/plain": [
       "2"
      ]
     },
     "execution_count": 1,
     "metadata": {},
     "output_type": "execute_result"
    }
   ],
   "source": [
    "\"\"\"\n",
    "    310857408788602 + -31*t_0 = p_x + v_x*t_0\n",
    "    297796477288243 + -31*t_0 = p_y + v_y*t_0\n",
    "    210531244259195 + 163*t_0 = p_z + v_z*t_0\n",
    "    298167626012347 +  34*t_1 = p_x + v_x*t_1\n",
    "    343890784063423 +  34*t_1 = p_y + v_y*t_1\n",
    "    423675682350779 + -34*t_1 = p_z + v_z*t_1\n",
    "    232442233530894 +  95*t_2 = p_x + v_x*t_2\n",
    "    174047813539401 +  95*t_2 = p_y + v_y*t_2\n",
    "    130419194940021 + 411*t_2 = p_z + v_z*t_2\n",
    "\"\"\""
   ]
  },
  {
   "cell_type": "code",
   "execution_count": 3,
   "id": "c5e776d4-2562-4780-a4c6-0831b519f65a",
   "metadata": {},
   "outputs": [],
   "source": [
    "from sympy import solve, symbols"
   ]
  },
  {
   "cell_type": "code",
   "execution_count": 4,
   "id": "15f1dfa5-85ee-42ed-9803-8e940c068d83",
   "metadata": {},
   "outputs": [],
   "source": [
    "t0, t1, t2, px, py, pz, vx, vy, vz = symbols('t0 t1 t2 px py pz vx vy vz')"
   ]
  },
  {
   "cell_type": "code",
   "execution_count": 10,
   "id": "51dadf10-db14-415f-920f-76dff279bd7b",
   "metadata": {},
   "outputs": [
    {
     "data": {
      "text/plain": [
       "[{px: 231279746486542,\n",
       "  py: 131907658181641,\n",
       "  pz: 195227847662645,\n",
       "  t0: 612135863862,\n",
       "  t1: 1029044300397,\n",
       "  t2: 290621761088,\n",
       "  vx: 99,\n",
       "  vy: 240,\n",
       "  vz: 188}]"
      ]
     },
     "execution_count": 10,
     "metadata": {},
     "output_type": "execute_result"
    }
   ],
   "source": [
    "solve([\n",
    "    310857408788602 -31*t0 - (px + vx*t0),\n",
    "    297796477288243 -31*t0 - (py + vy*t0),\n",
    "    210531244259195 + 163*t0 - (pz + vz*t0),\n",
    "    298167626012347 +  34*t1 - (px + vx*t1),\n",
    "    343890784063423 +  34*t1 - (py + vy*t1),\n",
    "    423675682350779 -34*t1 - (pz + vz*t1),\n",
    "    232442233530894 +  95*t2 - (px + vx*t2),\n",
    "    174047813539401 +  95*t2 - (py + vy*t2),\n",
    "    130419194940021 + 411*t2 - (pz + vz*t2)\n",
    "], [t0, t1, t2, px, py, pz, vx, vy, vz], dict=True)"
   ]
  },
  {
   "cell_type": "code",
   "execution_count": null,
   "id": "dc7efc0d-1179-44d4-acd2-5e230d6b5f76",
   "metadata": {},
   "outputs": [],
   "source": []
  }
 ],
 "metadata": {
  "kernelspec": {
   "display_name": "Python 3 (ipykernel)",
   "language": "python",
   "name": "python3"
  },
  "language_info": {
   "codemirror_mode": {
    "name": "ipython",
    "version": 3
   },
   "file_extension": ".py",
   "mimetype": "text/x-python",
   "name": "python",
   "nbconvert_exporter": "python",
   "pygments_lexer": "ipython3",
   "version": "3.10.12"
  }
 },
 "nbformat": 4,
 "nbformat_minor": 5
}

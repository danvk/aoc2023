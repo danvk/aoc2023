{
 "cells": [
  {
   "cell_type": "code",
   "execution_count": 15,
   "id": "d484a2f0-179e-48bc-9898-e1e754d2bf64",
   "metadata": {},
   "outputs": [],
   "source": [
    "import networkx as nx\n",
    "from itertools import combinations"
   ]
  },
  {
   "cell_type": "code",
   "execution_count": 20,
   "id": "3c540997-0100-4a16-8e17-08f7402c4903",
   "metadata": {},
   "outputs": [],
   "source": [
    "G = nx.Graph()\n",
    "for line in open(\"input.txt\"):\n",
    "    line = line.strip()\n",
    "    left, rightList = line.split(\": \")\n",
    "    for right in rightList.split(\" \"):\n",
    "        G.add_edge(left, right)"
   ]
  },
  {
   "cell_type": "code",
   "execution_count": 21,
   "id": "5c712941-84d2-47e5-9de3-a612e8298455",
   "metadata": {},
   "outputs": [
    {
     "data": {
      "text/plain": [
       "NodeView(('ggk', 'tkd', 'vcd', 'nhn', 'xhj', 'mft', 'rtg', 'hvp', 'sgl', 'hgx', 'dxq', 'stc', 'cfn', 'qbl', 'zgp', 'txm', 'xsv', 'xrx', 'mcx', 'pks', 'hfp', 'hhb', 'lgm', 'zvx', 'blp', 'smh', 'npm', 'rkz', 'nlv', 'xkc', 'dkk', 'bsl', 'rcs', 'xtb', 'ssl', 'kxx', 'bsh', 'cqg', 'nhx', 'chb', 'sbb', 'bcn', 'mcm', 'gnq', 'fxd', 'slj', 'kzp', 'cmg', 'jvc', 'ncx', 'rtx', 'gcs', 'qdb', 'ggh', 'ldk', 'vdv', 'pkn', 'znn', 'jpn', 'crg', 'zbn', 'ldp', 'gtl', 'fbl', 'fkg', 'srk', 'mzc', 'ptq', 'bxs', 'vrv', 'sns', 'mbh', 'xpj', 'fhx', 'mcd', 'pmg', 'hxz', 'brj', 'qjv', 'dpc', 'pzh', 'xqs', 'qth', 'mjf', 'gnd', 'dlv', 'hmk', 'gss', 'srb', 'rrp', 'csz', 'pqj', 'sgb', 'qlr', 'jnc', 'kcs', 'frq', 'jht', 'tbf', 'gnv', 'cfk', 'tqb', 'nfv', 'zmk', 'tgl', 'vnq', 'hcq', 'gsg', 'ckb', 'qvz', 'dpr', 'pdx', 'rmb', 'qzp', 'pcc', 'mgv', 'zcx', 'nrm', 'nrl', 'nlm', 'pzq', 'pvf', 'nkh', 'fzd', 'gqg', 'zdf', 'qqr', 'qsx', 'bfr', 'mrg', 'jnk', 'hnx', 'vvt', 'nlq', 'bkc', 'gzm', 'hlh', 'mgj', 'lsl', 'snt', 'vcv', 'kfm', 'kzq', 'qmr', 'jtr', 'xzt', 'qrg', 'fnk', 'qvx', 'dlg', 'pcd', 'qbk', 'rrk', 'jzv', 'vjl', 'gqn', 'smj', 'sjd', 'lhx', 'csf', 'dkl', 'gfv', 'mlq', 'xvp', 'tkm', 'mbx', 'gtp', 'rhf', 'fvv', 'hfz', 'ljg', 'qxh', 'xkx', 'frs', 'pqd', 'nmz', 'rcg', 'qrj', 'zgn', 'rnl', 'rlh', 'gps', 'tkn', 'zjq', 'ftc', 'ddh', 'bgn', 'kqf', 'qqj', 'bkn', 'jgl', 'mlv', 'lqj', 'vsj', 'vbx', 'dtd', 'xcq', 'pls', 'snn', 'cmp', 'xkd', 'rpc', 'khl', 'dhj', 'lrv', 'gff', 'kcd', 'pcp', 'hcc', 'sjv', 'chf', 'qsg', 'btm', 'ssz', 'fpq', 'pzd', 'khf', 'rcx', 'mtt', 'qcs', 'dsl', 'lmp', 'ztp', 'kss', 'thd', 'bsd', 'kbx', 'fhb', 'tzs', 'jjc', 'bft', 'flm', 'ndl', 'dcp', 'lhz', 'ccn', 'zrr', 'hxq', 'nts', 'rpf', 'fkx', 'frx', 'nvz', 'srl', 'xfk', 'gzf', 'snk', 'tjf', 'sbn', 'xth', 'dsk', 'dnz', 'nsh', 'znt', 'fgx', 'fmp', 'dmr', 'kxj', 'mfh', 'jgp', 'zsk', 'jtm', 'ztq', 'qnn', 'qxv', 'vmb', 'cpc', 'pfh', 'gjb', 'lqq', 'fvt', 'tsf', 'kpm', 'hnv', 'gxk', 'vtv', 'npk', 'rgp', 'dll', 'kvb', 'dzc', 'tdz', 'rcr', 'nck', 'dnt', 'sjh', 'pmp', 'mnb', 'cxb', 'gjv', 'mjp', 'tlb', 'jdf', 'thg', 'bfn', 'rxp', 'qxz', 'ltz', 'xjp', 'plc', 'dgc', 'lzd', 'ckp', 'bdb', 'bjf', 'blb', 'sfj', 'mjc', 'shs', 'qzz', 'rtd', 'bmg', 'zql', 'xvn', 'gfg', 'qgj', 'gpb', 'xfm', 'mrk', 'fcg', 'sks', 'pbh', 'jmp', 'mrx', 'jgm', 'mnl', 'zqh', 'lxn', 'pcm', 'pkl', 'szq', 'chj', 'ncn', 'czc', 'vrg', 'gvj', 'cgc', 'rfp', 'vls', 'tsq', 'bnt', 'bnz', 'xtg', 'hkt', 'mdk', 'rbh', 'dld', 'lgz', 'snl', 'tmh', 'dfl', 'fnr', 'bzm', 'fpk', 'nzn', 'rvb', 'cfv', 'cck', 'ztb', 'jct', 'fpm', 'rdv', 'prs', 'fqp', 'zvs', 'jpz', 'slq', 'khd', 'vgm', 'qch', 'pbf', 'czd', 'rgh', 'pds', 'czx', 'cgp', 'jsr', 'pck', 'dth', 'rxh', 'pvq', 'brn', 'hhg', 'fsp', 'mpm', 'tbz', 'qhr', 'vvx', 'pzp', 'xlq', 'gzt', 'bjr', 'bfk', 'lpf', 'skv', 'mvs', 'gtj', 'rjd', 'rhg', 'bkz', 'vfm', 'fbg', 'hbc', 'xrc', 'hfr', 'tpv', 'lns', 'zkj', 'mdx', 'ntz', 'nbv', 'kgs', 'vgb', 'xmm', 'pql', 'djs', 'tpt', 'rfq', 'mfl', 'mqg', 'tbj', 'hrn', 'nbq', 'fhk', 'vxv', 'vgf', 'gmg', 'bdf', 'krv', 'ltj', 'nmq', 'klx', 'jhr', 'hzx', 'qtj', 'dfv', 'pps', 'mvz', 'xnn', 'tgb', 'pdl', 'czg', 'xjx', 'nhd', 'pss', 'mvh', 'nxd', 'gpm', 'qgk', 'rjc', 'kqn', 'hnf', 'mxn', 'vgj', 'jrd', 'lhl', 'hfg', 'spn', 'xck', 'njp', 'trd', 'tvn', 'vgq', 'zlq', 'gqm', 'frf', 'fxs', 'kxz', 'dlz', 'vrb', 'gfz', 'tpm', 'bmk', 'cvv', 'dnk', 'rfz', 'kds', 'sds', 'kbj', 'nrd', 'prr', 'bhn', 'ncg', 'cqm', 'btj', 'hlr', 'fkl', 'qfh', 'jhm', 'jmd', 'mnx', 'jhj', 'kkf', 'hdn', 'bfd', 'njm', 'dqh', 'gth', 'lcq', 'bff', 'tvc', 'kbs', 'jqx', 'nqp', 'cvz', 'pvc', 'ccq', 'fnx', 'cdb', 'mnk', 'frp', 'pcv', 'znv', 'btd', 'cgl', 'ddj', 'cvc', 'bng', 'mdg', 'fjr', 'fcm', 'zpp', 'klv', 'bpc', 'bgr', 'qzm', 'cdv', 'cgj', 'ntf', 'ftl', 'gnm', 'bdq', 'zdl', 'dzt', 'dds', 'mlm', 'kxd', 'ssb', 'jdc', 'nkq', 'zpr', 'jsv', 'jrj', 'hml', 'xjv', 'tvt', 'ltb', 'hbh', 'xpk', 'vsz', 'dqs', 'lbt', 'nqt', 'jqt', 'bmt', 'vqf', 'fzk', 'fkn', 'npl', 'zrc', 'bqz', 'zgg', 'kjh', 'sck', 'mkp', 'dtb', 'lnr', 'ghs', 'lpc', 'rss', 'mkv', 'fff', 'zxt', 'dhv', 'ltp', 'kvl', 'khj', 'ncv', 'dtp', 'zkq', 'txl', 'ckt', 'kcz', 'vhn', 'rkg', 'jtt', 'fqh', 'ptb', 'qrt', 'bkb', 'bgb', 'vvg', 'rxf', 'dfr', 'nmf', 'glx', 'rzm', 'hfq', 'nxb', 'xjn', 'zfk', 'kbq', 'rrj', 'zvd', 'mfv', 'ndb', 'ldg', 'qhq', 'jms', 'ttz', 'jpg', 'kkk', 'rlz', 'dml', 'lnj', 'kzr', 'shb', 'mmq', 'zln', 'rrc', 'dsc', 'kpl', 'bzq', 'qgc', 'gzr', 'kjr', 'kjv', 'rhh', 'zkv', 'nkn', 'zrt', 'rxs', 'hpg', 'gjg', 'qtf', 'msm', 'zjv', 'crf', 'jzr', 'fdd', 'brt', 'qqs', 'sbf', 'lpm', 'skp', 'jjb', 'hkb', 'psb', 'nlf', 'vhs', 'lld', 'ptf', 'kzm', 'fpv', 'gcd', 'xxz', 'zgd', 'psd', 'jlx', 'khg', 'zkx', 'pdj', 'ncl', 'mrp', 'nzx', 'sgj', 'rcq', 'rvr', 'znl', 'nhl', 'fhr', 'mnn', 'pdc', 'ssx', 'dtj', 'nkl', 'bmj', 'tgq', 'gnz', 'tbt', 'kzg', 'qtg', 'zbf', 'ntk', 'skk', 'vlk', 'nsd', 'tfn', 'bbm', 'lft', 'qkf', 'lhj', 'bdn', 'tjt', 'hrt', 'fgz', 'ncb', 'cbf', 'ltm', 'fhj', 'vdd', 'ffb', 'xqz', 'kks', 'dpz', 'tvj', 'mtn', 'kxh', 'ggm', 'sfz', 'hcr', 'nxm', 'mvj', 'pxn', 'srr', 'fps', 'kkx', 'zgv', 'zgh', 'tns', 'sln', 'nsq', 'pdm', 'lvv', 'svk', 'vzs', 'vts', 'qvn', 'phh', 'tms', 'drt', 'mbm', 'xxp', 'hrg', 'thk', 'rdl', 'tth', 'czb', 'qcq', 'ttx', 'vtg', 'vkl', 'rxv', 'nxp', 'nzs', 'tss', 'dvd', 'qfm', 'krf', 'jtp', 'rpk', 'hlg', 'lbc', 'ffz', 'hdb', 'rkq', 'dzk', 'vhr', 'chd', 'npz', 'txn', 'snc', 'vpr', 'grr', 'jkl', 'ktp', 'mfz', 'bch', 'dpd', 'lbl', 'gld', 'lch', 'bkv', 'rzz', 'mpt', 'mpk', 'jmx', 'cbr', 'dbh', 'rzn', 'xbq', 'dzp', 'mhb', 'vfh', 'mhx', 'tzt', 'skg', 'jmj', 'msl', 'xps', 'lvh', 'qjp', 'knx', 'ksb', 'hqt', 'jng', 'ppd', 'nbt', 'lmr', 'vjg', 'xtx', 'php', 'xhg', 'gjh', 'qsl', 'sqr', 'xbt', 'xcm', 'mgb', 'gck', 'ggr', 'hdl', 'fzs', 'xmk', 'tph', 'hnp', 'jzl', 'nsg', 'xfq', 'jxd', 'lxc', 'xzn', 'fsf', 'rmr', 'fjd', 'tml', 'ndx', 'ngh', 'dgg', 'vnb', 'smx', 'lcf', 'pnv', 'kbd', 'xpf', 'vkt', 'mzv', 'tzp', 'txg', 'bqc', 'klj', 'qnf', 'qtz', 'knp', 'sxg', 'lbg', 'hmm', 'xhf', 'nph', 'dlj', 'tgf', 'dnl', 'szf', 'jnr', 'sth', 'xks', 'npp', 'cpm', 'mbf', 'sff', 'gvc', 'mgd', 'hlt', 'kvp', 'phq', 'mtc', 'mdn', 'xzb', 'rqr', 'nnd', 'zhz', 'plz', 'srn', 'xsj', 'rmv', 'tjm', 'ncp', 'sbz', 'dmj', 'msc', 'vvk', 'mrr', 'rrf', 'ddb', 'ttl', 'pcl', 'phx', 'nmd', 'lhd', 'sct', 'tkk', 'xbn', 'dcm', 'psn', 'hpp', 'cbq', 'gcv', 'cmh', 'mmd', 'qvj', 'jdb', 'jxx', 'rrz', 'vzj', 'tnd', 'nmp', 'xll', 'xbd', 'jdq', 'rsx', 'pnz', 'fcq', 'vvm', 'xsp', 'rxg', 'mgz', 'rfd', 'pdz', 'fvz', 'rkf', 'zps', 'zxx', 'tkz', 'ssp', 'zfh', 'qzr', 'tgt', 'npt', 'vhj', 'bpn', 'jgq', 'zcp', 'dhd', 'fpl', 'szp', 'cfz', 'zpn', 'vvh', 'cpq', 'jlc', 'vbl', 'kvx', 'scn', 'ssd', 'bxg', 'ngq', 'nzr', 'mks', 'xtv', 'fzt', 'pjq', 'vbg', 'sss', 'tsg', 'zkh', 'svx', 'mgq', 'sjq', 'jkv', 'bnm', 'xjm', 'hcv', 'gmr', 'fht', 'kpt', 'rbk', 'rlc', 'ppc', 'fgn', 'dxs', 'ftx', 'ddz', 'lqd', 'vkn', 'jjl', 'mjv', 'xpq', 'hxv', 'hpt', 'vnd', 'crt', 'gvp', 'fbk', 'vvn', 'hdr', 'nvn', 'gjk', 'lng', 'qcr', 'hsr', 'jrp', 'gsv', 'nnk', 'bpx', 'jhp', 'fbn', 'zkt', 'gdz', 'nsv', 'tgp', 'zbb', 'vjt', 'dkp', 'ldq', 'kmc', 'hbj', 'jnz', 'xpz', 'sdd', 'cgf', 'xdm', 'pfv', 'cqt', 'grc', 'rdt', 'bqb', 'srh', 'qnc', 'jvq', 'lpj', 'pmc', 'jlk', 'mgr', 'lpt', 'drg', 'gdc', 'ghg', 'nkf', 'kjq', 'jqs', 'fbz', 'btt', 'xlm', 'hls', 'grt', 'fqk', 'sgr', 'fct', 'fvm', 'nhf', 'qxx', 'lpb', 'tdb', 'fnv', 'gfb', 'fgl', 'fkj', 'spx', 'csb', 'ttf', 'fkz', 'mtq', 'phc', 'jhv', 'bbs', 'bmc', 'rmd', 'bsz', 'rqn', 'gsj', 'mrj', 'xdt', 'htp', 'xbk', 'ztk', 'kdf', 'hqk', 'prd', 'npd', 'fck', 'rjh', 'mbq', 'mtr', 'sdg', 'pgl', 'rrg', 'mgh', 'vpg', 'rdr', 'hdk', 'stv', 'ttj', 'qvd', 'xcf', 'fjf', 'grp', 'vqk', 'mgk', 'hvg', 'nhh', 'qvl', 'qjt', 'lrr', 'kfh', 'kct', 'lkv', 'zld', 'lfm', 'sdv', 'mkm', 'qvc', 'ptd', 'lbk', 'slz', 'xlb', 'rkk', 'jcz', 'xtf', 'dnm', 'dxv', 'sxt', 'jtc', 'lfd', 'xzg', 'vgh', 'ncz', 'mbl', 'cgr', 'ndd', 'krk', 'tlc', 'dnh', 'zrs', 'sjz', 'stt', 'fgp', 'cxp', 'qxp', 'zlg', 'nfg', 'mzj', 'qrf', 'rbn', 'bnj', 'hmt', 'pqv', 'mzf', 'tkp', 'jsh', 'llj', 'mff', 'nhr', 'scl', 'chh', 'bbr', 'pzb', 'fjz', 'mcs', 'lvf', 'vgn', 'slc', 'mnv', 'mqz', 'tgz', 'zmt', 'qmh', 'cbs', 'tqm', 'rjx', 'lfl', 'ktm', 'vfv', 'djr', 'tkt', 'bnr', 'zhk', 'kps', 'kjt', 'mpq', 'qhs', 'dlp', 'htq', 'rqd', 'trj', 'xtn', 'mkk', 'cgk', 'hbv', 'hks', 'zqs', 'zxp', 'nvt', 'rjt', 'nqd', 'tld', 'lpk', 'jmq', 'fsn', 'lfk', 'zjk', 'gng', 'fgk', 'bmb', 'xtq', 'kdv', 'bct', 'bpt', 'fcz', 'ftm', 'dqz', 'dgk', 'njv', 'cbb', 'zhp', 'zgj', 'tkh', 'tcv', 'lmm', 'jdd', 'bzp', 'xfv', 'cjq', 'lgr', 'lcg', 'tsp', 'rbf', 'ghv', 'pdn', 'lbf', 'rvv', 'drz', 'rjf', 'qnv', 'gbz', 'xtm', 'sbk', 'ndq', 'rtl', 'qhb', 'lzx', 'qnp', 'rtc', 'plv', 'kls', 'vrm', 'rzk', 'tsz', 'zzr', 'rmp', 'nqz', 'vmp', 'gtq', 'pbn', 'qnl', 'nkg', 'bkj', 'cfc', 'xzj', 'ffm', 'qbh', 'xgn', 'qxq', 'tjn', 'ldj', 'qsk', 'spk', 'pdt', 'mzt', 'nzz', 'zdd', 'vhq', 'vlj', 'gml', 'hlv', 'nzc', 'nmv', 'clq', 'cnh', 'hms', 'gqc', 'vxj', 'gjs', 'gfh', 'qtb', 'bsv', 'flz', 'xdb', 'sjg', 'pxh', 'lvp', 'rpx', 'lzl', 'nfp', 'mjk', 'txb', 'dbr', 'hmr', 'hch', 'jrm', 'gxh', 'jgb', 'mll', 'cql', 'xxt', 'jpd', 'pnp', 'vml', 'jjh', 'dzb', 'kdr', 'cqp', 'lsm', 'btl', 'nzf', 'jkn', 'tmm', 'ngs', 'qzg', 'gpf', 'bxc', 'smt', 'gvm', 'bgs', 'xcn', 'rxn', 'fmd', 'znd', 'plx', 'cvp', 'ptl', 'cvb', 'tqz', 'pmb', 'jjf', 'lnd', 'dgf', 'bcf', 'khx', 'fzz', 'txp', 'vxn', 'sts', 'qkd', 'fmb', 'kdl', 'tdn', 'zzp', 'drd', 'kjz', 'xgf', 'clp', 'zjg', 'tlz', 'tfx', 'ccg', 'lbv', 'stp', 'kgp', 'glg', 'qjh', 'sjr', 'qtr', 'mqr', 'mhl', 'fhf', 'pbl', 'svc', 'rcd', 'jfz', 'mfp', 'hgs', 'jbq', 'jjs', 'rzc', 'jgd', 'btr', 'jsb', 'nct', 'tcb', 'tnj', 'slr', 'crx', 'cnr', 'vvs', 'tfk', 'mbs', 'dnq', 'krn', 'nhm', 'qjk', 'rhn', 'qcz', 'rsm', 'jhd', 'zzm', 'sjs', 'zfz', 'pfp', 'hgn', 'pvx', 'nqk', 'vtx', 'bgd', 'kln', 'zzq', 'njh', 'svn', 'nrq', 'lfb', 'rsj', 'fst', 'rml', 'hmb', 'frn', 'ggq', 'sqd', 'mxj', 'kzd', 'bzr', 'hqs', 'cdz', 'vrr', 'ksn', 'zst', 'qbz', 'lfc', 'rqm', 'rrv', 'hrf', 'gvv', 'csn', 'sqg', 'gxt', 'mtv', 'gtx', 'pcr', 'gls', 'lhf', 'xmg', 'bgk', 'cgg', 'spl', 'qff', 'ckd', 'kxm', 'xsb', 'hhp', 'bdv', 'gnb', 'dgz', 'mmp', 'xqn', 'zns', 'dvv', 'kkp', 'zjc', 'snb', 'dmb', 'vbp', 'nvm', 'lqx', 'jlq', 'xvh'))"
      ]
     },
     "execution_count": 21,
     "metadata": {},
     "output_type": "execute_result"
    }
   ],
   "source": [
    "G.nodes()"
   ]
  },
  {
   "cell_type": "code",
   "execution_count": 9,
   "id": "d0b32a8b-dedd-40bd-ac58-133d6675f8d0",
   "metadata": {},
   "outputs": [
    {
     "data": {
      "text/plain": [
       "EdgeView([('jqt', 'rhn'), ('jqt', 'xhk'), ('jqt', 'nvd'), ('jqt', 'ntq'), ('rhn', 'xhk'), ('rhn', 'bvb'), ('rhn', 'hfx'), ('xhk', 'hfx'), ('xhk', 'bvb'), ('xhk', 'ntq'), ('nvd', 'cmg'), ('nvd', 'pzl'), ('nvd', 'qnr'), ('nvd', 'lhk'), ('rsh', 'frs'), ('rsh', 'pzl'), ('rsh', 'lsr'), ('rsh', 'rzs'), ('frs', 'qnr'), ('frs', 'lhk'), ('frs', 'lsr'), ('pzl', 'lsr'), ('pzl', 'hfx'), ('lsr', 'lhk'), ('lsr', 'rzs'), ('hfx', 'bvb'), ('hfx', 'ntq'), ('cmg', 'qnr'), ('cmg', 'lhk'), ('cmg', 'bvb'), ('cmg', 'rzs'), ('qnr', 'rzs'), ('bvb', 'ntq')])"
      ]
     },
     "execution_count": 9,
     "metadata": {},
     "output_type": "execute_result"
    }
   ],
   "source": [
    "G.edges()"
   ]
  },
  {
   "cell_type": "code",
   "execution_count": 10,
   "id": "5774fe81-60dc-4848-8683-52eb4d3bcda3",
   "metadata": {},
   "outputs": [
    {
     "data": {
      "text/plain": [
       "[{'bvb',\n",
       "  'cmg',\n",
       "  'frs',\n",
       "  'hfx',\n",
       "  'jqt',\n",
       "  'lhk',\n",
       "  'lsr',\n",
       "  'ntq',\n",
       "  'nvd',\n",
       "  'pzl',\n",
       "  'qnr',\n",
       "  'rhn',\n",
       "  'rsh',\n",
       "  'rzs',\n",
       "  'xhk'}]"
      ]
     },
     "execution_count": 10,
     "metadata": {},
     "output_type": "execute_result"
    }
   ],
   "source": [
    "[*nx.connected_components(G)]"
   ]
  },
  {
   "cell_type": "code",
   "execution_count": 12,
   "id": "f915e32c-e8e8-44b5-bcc5-d93da31813f3",
   "metadata": {},
   "outputs": [
    {
     "data": {
      "text/plain": [
       "[{'bvb', 'hfx', 'jqt', 'ntq', 'rhn', 'xhk'},\n",
       " {'cmg', 'frs', 'lhk', 'lsr', 'nvd', 'pzl', 'qnr', 'rsh', 'rzs'}]"
      ]
     },
     "execution_count": 12,
     "metadata": {},
     "output_type": "execute_result"
    }
   ],
   "source": [
    "# hfx/pzl, the wire between bvb/cmg, and the wire between nvd/jqt\n",
    "G2 = G.copy()\n",
    "G2.remove_edge(\"hfx\", \"pzl\")\n",
    "G2.remove_edge(\"bvb\", \"cmg\")\n",
    "G2.remove_edge(\"nvd\", \"jqt\")\n",
    "[*nx.connected_components(G2)]"
   ]
  },
  {
   "cell_type": "code",
   "execution_count": 13,
   "id": "6e89f181-a917-4394-806e-36da6d5d7ad5",
   "metadata": {},
   "outputs": [],
   "source": [
    "def num_after_snipping(G, snips):\n",
    "    G2 = G.copy()\n",
    "    for snip in snips:\n",
    "        G2.remove_edge(*snip)\n",
    "    return len([*nx.connected_components(G2)])"
   ]
  },
  {
   "cell_type": "code",
   "execution_count": 14,
   "id": "7e6e40cd-8957-4bce-b38e-707aa29be94d",
   "metadata": {},
   "outputs": [
    {
     "data": {
      "text/plain": [
       "2"
      ]
     },
     "execution_count": 14,
     "metadata": {},
     "output_type": "execute_result"
    }
   ],
   "source": [
    "num_after_snipping(G, ((\"hfx\", \"pzl\"), (\"bvb\", \"cmg\"), (\"nvd\", \"jqt\")))"
   ]
  },
  {
   "cell_type": "code",
   "execution_count": 16,
   "id": "130c49e9-af63-4f45-8fda-73e8ed051c80",
   "metadata": {},
   "outputs": [
    {
     "name": "stdout",
     "output_type": "stream",
     "text": [
      "('jqt', 'nvd') ('pzl', 'hfx') ('cmg', 'bvb')\n"
     ]
    }
   ],
   "source": [
    "edges = [*G.edges()]\n",
    "for a, b, c in combinations(edges, 3):\n",
    "    if num_after_snipping(G, (a, b, c)) == 2:\n",
    "        print(a, b, c)\n",
    "        break"
   ]
  },
  {
   "cell_type": "code",
   "execution_count": 23,
   "id": "b05da32a-f1e8-41ad-9204-51497478752b",
   "metadata": {},
   "outputs": [],
   "source": [
    "comps = [*nx.k_edge_components(G, 4)]"
   ]
  },
  {
   "cell_type": "code",
   "execution_count": 24,
   "id": "f53f3d26-ac25-4279-845a-e3f7e1d29cb3",
   "metadata": {},
   "outputs": [
    {
     "data": {
      "text/plain": [
       "2"
      ]
     },
     "execution_count": 24,
     "metadata": {},
     "output_type": "execute_result"
    }
   ],
   "source": [
    "len(comps)"
   ]
  },
  {
   "cell_type": "code",
   "execution_count": 25,
   "id": "c89dde98-79d4-41bb-b88d-7938a3df9d15",
   "metadata": {},
   "outputs": [
    {
     "data": {
      "text/plain": [
       "527790"
      ]
     },
     "execution_count": 25,
     "metadata": {},
     "output_type": "execute_result"
    }
   ],
   "source": [
    "len(comps[0]) * len(comps[1])"
   ]
  },
  {
   "cell_type": "code",
   "execution_count": null,
   "id": "4631aaf6-c80a-45ca-ab2a-1f8086b50af4",
   "metadata": {},
   "outputs": [],
   "source": []
  }
 ],
 "metadata": {
  "kernelspec": {
   "display_name": "Python 3 (ipykernel)",
   "language": "python",
   "name": "python3"
  },
  "language_info": {
   "codemirror_mode": {
    "name": "ipython",
    "version": 3
   },
   "file_extension": ".py",
   "mimetype": "text/x-python",
   "name": "python",
   "nbconvert_exporter": "python",
   "pygments_lexer": "ipython3",
   "version": "3.10.12"
  }
 },
 "nbformat": 4,
 "nbformat_minor": 5
}

{
 "cells": [
  {
   "cell_type": "code",
   "execution_count": 15,
   "id": "d484a2f0-179e-48bc-9898-e1e754d2bf64",
   "metadata": {},
   "outputs": [],
   "source": [
    "import networkx as nx\n",
    "from itertools import combinations"
   ]
  },
  {
   "cell_type": "code",
   "execution_count": 7,
   "id": "3c540997-0100-4a16-8e17-08f7402c4903",
   "metadata": {},
   "outputs": [],
   "source": [
    "G = nx.Graph()\n",
    "for line in open(\"sample2.txt\"):\n",
    "    line = line.strip()\n",
    "    left, rightList = line.split(\": \")\n",
    "    for right in rightList.split(\" \"):\n",
    "        G.add_edge(left, right)"
   ]
  },
  {
   "cell_type": "code",
   "execution_count": 8,
   "id": "5c712941-84d2-47e5-9de3-a612e8298455",
   "metadata": {},
   "outputs": [
    {
     "data": {
      "text/plain": [
       "NodeView(('jqt', 'rhn', 'xhk', 'nvd', 'rsh', 'frs', 'pzl', 'lsr', 'hfx', 'cmg', 'qnr', 'lhk', 'bvb', 'ntq', 'rzs'))"
      ]
     },
     "execution_count": 8,
     "metadata": {},
     "output_type": "execute_result"
    }
   ],
   "source": [
    "G.nodes()"
   ]
  },
  {
   "cell_type": "code",
   "execution_count": 9,
   "id": "d0b32a8b-dedd-40bd-ac58-133d6675f8d0",
   "metadata": {},
   "outputs": [
    {
     "data": {
      "text/plain": [
       "EdgeView([('jqt', 'rhn'), ('jqt', 'xhk'), ('jqt', 'nvd'), ('jqt', 'ntq'), ('rhn', 'xhk'), ('rhn', 'bvb'), ('rhn', 'hfx'), ('xhk', 'hfx'), ('xhk', 'bvb'), ('xhk', 'ntq'), ('nvd', 'cmg'), ('nvd', 'pzl'), ('nvd', 'qnr'), ('nvd', 'lhk'), ('rsh', 'frs'), ('rsh', 'pzl'), ('rsh', 'lsr'), ('rsh', 'rzs'), ('frs', 'qnr'), ('frs', 'lhk'), ('frs', 'lsr'), ('pzl', 'lsr'), ('pzl', 'hfx'), ('lsr', 'lhk'), ('lsr', 'rzs'), ('hfx', 'bvb'), ('hfx', 'ntq'), ('cmg', 'qnr'), ('cmg', 'lhk'), ('cmg', 'bvb'), ('cmg', 'rzs'), ('qnr', 'rzs'), ('bvb', 'ntq')])"
      ]
     },
     "execution_count": 9,
     "metadata": {},
     "output_type": "execute_result"
    }
   ],
   "source": [
    "G.edges()"
   ]
  },
  {
   "cell_type": "code",
   "execution_count": 10,
   "id": "5774fe81-60dc-4848-8683-52eb4d3bcda3",
   "metadata": {},
   "outputs": [
    {
     "data": {
      "text/plain": [
       "[{'bvb',\n",
       "  'cmg',\n",
       "  'frs',\n",
       "  'hfx',\n",
       "  'jqt',\n",
       "  'lhk',\n",
       "  'lsr',\n",
       "  'ntq',\n",
       "  'nvd',\n",
       "  'pzl',\n",
       "  'qnr',\n",
       "  'rhn',\n",
       "  'rsh',\n",
       "  'rzs',\n",
       "  'xhk'}]"
      ]
     },
     "execution_count": 10,
     "metadata": {},
     "output_type": "execute_result"
    }
   ],
   "source": [
    "[*nx.connected_components(G)]"
   ]
  },
  {
   "cell_type": "code",
   "execution_count": 12,
   "id": "f915e32c-e8e8-44b5-bcc5-d93da31813f3",
   "metadata": {},
   "outputs": [
    {
     "data": {
      "text/plain": [
       "[{'bvb', 'hfx', 'jqt', 'ntq', 'rhn', 'xhk'},\n",
       " {'cmg', 'frs', 'lhk', 'lsr', 'nvd', 'pzl', 'qnr', 'rsh', 'rzs'}]"
      ]
     },
     "execution_count": 12,
     "metadata": {},
     "output_type": "execute_result"
    }
   ],
   "source": [
    "# hfx/pzl, the wire between bvb/cmg, and the wire between nvd/jqt\n",
    "G2 = G.copy()\n",
    "G2.remove_edge(\"hfx\", \"pzl\")\n",
    "G2.remove_edge(\"bvb\", \"cmg\")\n",
    "G2.remove_edge(\"nvd\", \"jqt\")\n",
    "[*nx.connected_components(G2)]"
   ]
  },
  {
   "cell_type": "code",
   "execution_count": 13,
   "id": "6e89f181-a917-4394-806e-36da6d5d7ad5",
   "metadata": {},
   "outputs": [],
   "source": [
    "def num_after_snipping(G, snips):\n",
    "    G2 = G.copy()\n",
    "    for snip in snips:\n",
    "        G2.remove_edge(*snip)\n",
    "    return len([*nx.connected_components(G2)])"
   ]
  },
  {
   "cell_type": "code",
   "execution_count": 14,
   "id": "7e6e40cd-8957-4bce-b38e-707aa29be94d",
   "metadata": {},
   "outputs": [
    {
     "data": {
      "text/plain": [
       "2"
      ]
     },
     "execution_count": 14,
     "metadata": {},
     "output_type": "execute_result"
    }
   ],
   "source": [
    "num_after_snipping(G, ((\"hfx\", \"pzl\"), (\"bvb\", \"cmg\"), (\"nvd\", \"jqt\")))"
   ]
  },
  {
   "cell_type": "code",
   "execution_count": 16,
   "id": "130c49e9-af63-4f45-8fda-73e8ed051c80",
   "metadata": {},
   "outputs": [
    {
     "name": "stdout",
     "output_type": "stream",
     "text": [
      "('jqt', 'nvd') ('pzl', 'hfx') ('cmg', 'bvb')\n"
     ]
    }
   ],
   "source": [
    "edges = [*G.edges()]\n",
    "for a, b, c in combinations(edges, 3):\n",
    "    if num_after_snipping(G, (a, b, c)) == 2:\n",
    "        print(a, b, c)\n",
    "        break"
   ]
  },
  {
   "cell_type": "code",
   "execution_count": null,
   "id": "b05da32a-f1e8-41ad-9204-51497478752b",
   "metadata": {},
   "outputs": [],
   "source": []
  }
 ],
 "metadata": {
  "kernelspec": {
   "display_name": "Python 3 (ipykernel)",
   "language": "python",
   "name": "python3"
  },
  "language_info": {
   "codemirror_mode": {
    "name": "ipython",
    "version": 3
   },
   "file_extension": ".py",
   "mimetype": "text/x-python",
   "name": "python",
   "nbconvert_exporter": "python",
   "pygments_lexer": "ipython3",
   "version": "3.10.12"
  }
 },
 "nbformat": 4,
 "nbformat_minor": 5
}
